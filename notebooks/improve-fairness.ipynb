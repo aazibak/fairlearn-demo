{
 "cells": [
  {
   "cell_type": "markdown",
   "metadata": {},
   "source": [
    "# Part 4: Improve fairness\n",
    "\n",
    "In the previous notebook we've seen how we can measure fairness. In this notebook we're going to use a TresholdOptimizer to improve the fairness of our model. We'll cover the following topics:\n",
    "\n",
    "* Loading the dataset and model\n",
    "* Using the TresholdOptimizer\n",
    "* Comparing the performance between the old and the new model"
   ]
  },
  {
   "cell_type": "markdown",
   "metadata": {},
   "source": [
    "## Loading the dataset and model\n",
    "Before we work on improving the model, let's load the existing model and the dataset.\n",
    "We'll perform the following steps:\n",
    "\n",
    "* First, we load the training and testing dataset. \n",
    "* Then, we load the model."
   ]
  },
  {
   "cell_type": "code",
   "execution_count": 3,
   "metadata": {},
   "outputs": [],
   "source": [
    "import joblib\n",
    "import pandas as pd"
   ]
  },
  {
   "cell_type": "code",
   "execution_count": 4,
   "metadata": {},
   "outputs": [],
   "source": [
    "model = joblib.load('../models/model.bin')"
   ]
  },
  {
   "cell_type": "code",
   "execution_count": 5,
   "metadata": {},
   "outputs": [],
   "source": [
    "df_train = pd.read_csv('../data/processed/train.csv')\n",
    "df_test = pd.read_csv('../data/processed/test.csv')"
   ]
  },
  {
   "cell_type": "code",
   "execution_count": 21,
   "metadata": {},
   "outputs": [],
   "source": [
    "x_test = df_test.drop(['SEX', 'default.payment.next.month'], axis=1)\n",
    "y_test = df_test['default.payment.next.month']"
   ]
  },
  {
   "cell_type": "markdown",
   "metadata": {},
   "source": [
    "Previously, our dataset was unbalanced since we didn't spend any time looking at that. If we are going to improve the model with the `TresholdOptimizer` we need to make sure that the input has an equal number of samples producing the output value `0` to the number of samples producing the output value `1`. This is a requirement of the algorithm that's used by the optimizer."
   ]
  },
  {
   "cell_type": "code",
   "execution_count": 39,
   "metadata": {},
   "outputs": [],
   "source": [
    "balanced_idx = df_train[y_train == 1].index\n",
    "balanced_idx = balanced_idx.union(\n",
    "    y_train[y_train==0].sample(n=balanced_idx.size).index\n",
    ")"
   ]
  },
  {
   "cell_type": "code",
   "execution_count": 41,
   "metadata": {},
   "outputs": [],
   "source": [
    "x_train_balanced = df_train.loc[balanced_idx, :].drop(['SEX', 'default.payment.next.month'], axis=1)\n",
    "y_train_balanced = df_train.loc[balanced_idx, 'default.payment.next.month']"
   ]
  },
  {
   "cell_type": "markdown",
   "metadata": {},
   "source": [
    "Once we have a prepared dataset, we can start working on optimizing the model using the `TresholdOptimizer`."
   ]
  },
  {
   "cell_type": "markdown",
   "metadata": {},
   "source": [
    "## Using the TresholdOptimizer\n",
    "We can improve existing models using the `TresholdOptimizer`. This component takes the original model and adds a layer of optimization on top of it to equalize the performance difference between different demographic groups. It treats the original model as a black box for this.\n",
    "\n",
    "There are two methods of optimization that you can use:\n",
    "\n",
    "* Equalized odds\n",
    "* Demographic parity\n",
    "\n",
    "Both are loss functions that are used by the optimizer to minimize the differences in performance between demographic groups. Note that we can't fully fix the problems, since this is a problem where we have to maximize performance (thus minimize model loss) and minimize the differences between demographic groups specified as a set of sensitive features. This min-maxing problem turns out to be a balancing act where we can only reach equilibrium between the disparity metric and performance metric."
   ]
  },
  {
   "cell_type": "code",
   "execution_count": 14,
   "metadata": {},
   "outputs": [],
   "source": [
    "from fairlearn.postprocessing import ThresholdOptimizer"
   ]
  },
  {
   "cell_type": "code",
   "execution_count": 29,
   "metadata": {},
   "outputs": [],
   "source": [
    "optimizer = ThresholdOptimizer(estimator=model, constraints='demographic_parity')"
   ]
  },
  {
   "cell_type": "code",
   "execution_count": 43,
   "metadata": {},
   "outputs": [],
   "source": [
    "optimizer.fit(x_train_balanced, y_train_balanced, sensitive_features=df_train.loc[balanced_idx, 'SEX'])"
   ]
  },
  {
   "cell_type": "markdown",
   "metadata": {},
   "source": [
    "## Measuring fairness of the new model\n",
    "Once we have an improved model, we can look at its fairness and compare it to the old model. First, we'll measure the fairness of the new model."
   ]
  },
  {
   "cell_type": "code",
   "execution_count": 44,
   "metadata": {},
   "outputs": [],
   "source": [
    "from fairlearn.widget import FairlearnDashboard"
   ]
  },
  {
   "cell_type": "code",
   "execution_count": 45,
   "metadata": {
    "scrolled": false
   },
   "outputs": [
    {
     "data": {
      "application/vnd.jupyter.widget-view+json": {
       "model_id": "1690c2a6998d4fc798fd2f896d366d9b",
       "version_major": 2,
       "version_minor": 0
      },
      "text/plain": [
       "FairlearnWidget(value={'true_y': [0, 0, 1, 0, 0, 0, 0, 0, 0, 0, 0, 1, 0, 1, 1, 0, 1, 1, 0, 0, 0, 0, 0, 0, 0, 0…"
      ]
     },
     "metadata": {},
     "output_type": "display_data"
    },
    {
     "data": {
      "text/plain": [
       "<fairlearn.widget._fairlearn_dashboard.FairlearnDashboard at 0x23789c60c88>"
      ]
     },
     "execution_count": 45,
     "metadata": {},
     "output_type": "execute_result"
    }
   ],
   "source": [
    "FairlearnDashboard(\n",
    "    sensitive_features=df_test['SEX'],\n",
    "    sensitive_feature_names=['SEX'],\n",
    "    y_true=df_test['default.payment.next.month'],\n",
    "    y_pred=optimizer.predict(x_test, sensitive_features=df_test['SEX'])\n",
    ")"
   ]
  },
  {
   "cell_type": "markdown",
   "metadata": {},
   "source": [
    "Then, we're comparing the two models."
   ]
  },
  {
   "cell_type": "code",
   "execution_count": 48,
   "metadata": {},
   "outputs": [],
   "source": [
    "comparison = {\n",
    "    'Original model': model.predict(x_test),\n",
    "    'TresholdOptimizer': optimizer.predict(x_test, sensitive_features=df_test['SEX'])\n",
    "}"
   ]
  },
  {
   "cell_type": "code",
   "execution_count": 50,
   "metadata": {},
   "outputs": [
    {
     "data": {
      "application/vnd.jupyter.widget-view+json": {
       "model_id": "eaaba313333d491fad7788cd780bc631",
       "version_major": 2,
       "version_minor": 0
      },
      "text/plain": [
       "FairlearnWidget(value={'true_y': [0, 0, 1, 0, 0, 0, 0, 0, 0, 0, 0, 1, 0, 1, 1, 0, 1, 1, 0, 0, 0, 0, 0, 0, 0, 0…"
      ]
     },
     "metadata": {},
     "output_type": "display_data"
    },
    {
     "data": {
      "text/plain": [
       "<fairlearn.widget._fairlearn_dashboard.FairlearnDashboard at 0x23789e48e48>"
      ]
     },
     "execution_count": 50,
     "metadata": {},
     "output_type": "execute_result"
    }
   ],
   "source": [
    "FairlearnDashboard(\n",
    "    sensitive_features=df_test['SEX'],\n",
    "    sensitive_feature_names=['Gender'],\n",
    "    y_true=df_test['default.payment.next.month'],\n",
    "    y_pred=comparison\n",
    ")"
   ]
  },
  {
   "cell_type": "code",
   "execution_count": null,
   "metadata": {},
   "outputs": [],
   "source": []
  }
 ],
 "metadata": {
  "kernelspec": {
   "display_name": "Python 3.7.7 64-bit",
   "language": "python",
   "name": "python37764bit5a98d188c0f84c9f86db78246135625d"
  },
  "language_info": {
   "codemirror_mode": {
    "name": "ipython",
    "version": 3
   },
   "file_extension": ".py",
   "mimetype": "text/x-python",
   "name": "python",
   "nbconvert_exporter": "python",
   "pygments_lexer": "ipython3",
   "version": "3.7.7"
  }
 },
 "nbformat": 4,
 "nbformat_minor": 4
}
